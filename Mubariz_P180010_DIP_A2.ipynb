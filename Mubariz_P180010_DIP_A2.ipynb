{
  "nbformat": 4,
  "nbformat_minor": 0,
  "metadata": {
    "colab": {
      "provenance": [],
      "collapsed_sections": []
    },
    "kernelspec": {
      "name": "python3",
      "display_name": "Python 3"
    },
    "language_info": {
      "name": "python"
    }
  },
  "cells": [
    {
      "cell_type": "code",
      "execution_count": null,
      "metadata": {
        "id": "y3AAjhU8ID4h"
      },
      "outputs": [],
      "source": [
        "# Mubariz Ahmed kHan P180010 DIP Assignment 2"
      ]
    },
    {
      "cell_type": "code",
      "source": [
        "from google.colab import drive\n",
        "drive.mount('/content/drive', force_remount=True)"
      ],
      "metadata": {
        "id": "80yCK4wvGkX2",
        "colab": {
          "base_uri": "https://localhost:8080/"
        },
        "outputId": "bf213873-9280-40cf-8184-7615acfc4935"
      },
      "execution_count": null,
      "outputs": [
        {
          "output_type": "stream",
          "name": "stdout",
          "text": [
            "Mounted at /content/drive\n"
          ]
        }
      ]
    },
    {
      "cell_type": "code",
      "source": [
        "image_path = \"/content/drive/MyDrive/7th- Semester/Fig0117(b)(MRI-spine1-Vandy).tif\"\n",
        "pic = Image.open(im)\n",
        "l\n",
        "grey_pic = pic.convert(\"L\")\n",
        "grey_pic.size"
      ],
      "metadata": {
        "colab": {
          "base_uri": "https://localhost:8080/"
        },
        "id": "aMQwGW15I4a8",
        "outputId": "eb1e683c-77b7-43f3-e04b-fccb968e1f6c"
      },
      "execution_count": null,
      "outputs": [
        {
          "output_type": "execute_result",
          "data": {
            "text/plain": [
              "(662, 640)"
            ]
          },
          "metadata": {},
          "execution_count": 28
        }
      ]
    },
    {
      "cell_type": "code",
      "source": [
        "def laplacianEdgeProfile(image):\n",
        "      \n",
        "  image_values = np.array(image)\n",
        "  final_image_values = np.zeros((image.size[1],image.size[0]))\n",
        "  for i in range(len(image_values)):\n",
        "      for j in range(len(image_values[0])):\n",
        "          if i == 0: y_previous = 0\n",
        "          else: y_previous = image_values[i-1][j]\n",
        "          if i == len(image_values) - 1: y_forward = 0\n",
        "          else: y_forward = image_values[i+1][j]\n",
        "          if j == 0: x_previous = 0\n",
        "          else: x_previous = image_values[i][j-1]\n",
        "          if j == len(image_values[0]) - 1: x_forward = 0\n",
        "          else: x_forward = image_values[i][j+1]\n",
        "\n",
        "          center = 4*(image_values[i][j])\n",
        "          final_value = x_previous + x_forward + y_previous + y_forward - center \n",
        "          final_image_values[i][j] = final_value\n",
        "  img = Image.fromarray(final_image_values)\n",
        "  return img "
      ],
      "metadata": {
        "id": "oiADVPlYKsWX"
      },
      "execution_count": null,
      "outputs": []
    },
    {
      "cell_type": "code",
      "source": [
        "#Question no: 2\n",
        "def laplacianOfGaussian(sigma, grey_pic):\n",
        "    image_values = np.array(grey_pic)\n",
        "    final_image_values = np.zeros((grey_pic.size[1],grey_pic.size[0]))\n",
        "    for i in range(len(image_values)):\n",
        "        for j in range(len(image_values[0])):\n",
        "            \n",
        "            final_value = round(math.exp((-(image_values[i][j]**2) / (sigma**2))))\n",
        "            final_image_values[i][j] = final_value\n",
        "    img = Image.fromarray(final_image_values,\"L\")\n",
        "    img = laplacianEdgeProfile(img)\n",
        "    img.show()"
      ],
      "metadata": {
        "id": "5ajVgtojJohS"
      },
      "execution_count": null,
      "outputs": []
    },
    {
      "cell_type": "code",
      "source": [
        "laplacianEdgeProfile(pic)\n"
      ],
      "metadata": {
        "id": "NcPj-sPYMakM"
      },
      "execution_count": null,
      "outputs": []
    },
    {
      "cell_type": "code",
      "source": [
        "# Q3\n",
        "def signalToNoiseRatio(image_file):\n",
        "    original_image_values = np.array(image_file)\n",
        "    # read image to array\n",
        "    # noisey_image = Image.open(image_file)\n",
        "    # image.show()\n",
        "    \n",
        "    # convert image into greyscale\n",
        "    # image_grey = noisey_image.convert(\"L\")\n",
        "    noisey_image_values = np.array(grey_pic)\n",
        "    \n",
        "    sum_of_noise_values = 0\n",
        "    for i in range(len(noisey_image_values)):\n",
        "        for j in range(len(noisey_image_values[0])):\n",
        "            sum_of_noise_values += (noisey_image_values[i][j]**2)\n",
        "            \n",
        "    difference_of_noisey_original = 0\n",
        "    for i in range(len(original_image_values)):\n",
        "        for j in range(len(noisey_image_values[0])):\n",
        "            difference_of_noisey_original += ((original_image_values[i][j] - noisey_image_values[i][j]) ** 2)\n",
        "            \n",
        "    snr = sum_of_noise_values // difference_of_noisey_original \n",
        "    return snr\n",
        "signalToNoiseRatio(pic)"
      ],
      "metadata": {
        "id": "eVNopmhsMhuM"
      },
      "execution_count": null,
      "outputs": []
    },
    {
      "cell_type": "code",
      "source": [],
      "metadata": {
        "id": "A3JBKDFkRGYW"
      },
      "execution_count": null,
      "outputs": []
    },
    {
      "cell_type": "code",
      "source": [
        "    #Question no: 4\n",
        "    def frequencyDomain(pic):\n",
        "        original_image_values = np.array(pic)\n",
        "        magnitude_image_values = np.zeros((pic.size[1],pic.size[0]))\n",
        "        phase_image_values = np.zeros((pic.size[1],pic.size[0]))\n",
        "        \n",
        "        M = len(magnitude_image_values)\n",
        "        N = len(magnitude_image_values[0])  \n",
        "        for m in range(len(magnitude_image_values)):\n",
        "            for n in range(len(magnitude_image_values[0])):\n",
        "                imaginary_value = 0\n",
        "                real_value = 0\n",
        "                for x in range(len(original_image_values)):\n",
        "                    for y in range(len(original_image_values[0])):\n",
        "                        power_value = ((x * m) / M) + ((y*n) / N)\n",
        "                        result = f\"{(math.e**(math.pi*2j*power_value)) * original_image_values[x][y]:.2f}\"\n",
        "                        r_value = 1\n",
        "                        if result[0] == '-':\n",
        "                            result = result[1:]\n",
        "                            r_value *= -1\n",
        "                        result = result.split(\"-\")\n",
        "                        if len(result)>1:\n",
        "                            real_value += r_value*float(result[0])\n",
        "                            imaginary_value += -1*float(result[1][:-1])\n",
        "\n",
        "                        else:\n",
        "                            result = result[0].split(\"+\")\n",
        "                            real_value += r_value*float(result[0])\n",
        "                            imaginary_value += float(result[1][:-1])\n",
        "                            \n",
        "                magnitude_image_values[m][n] = ((real_value ** 2) + (imaginary_value ** 2)) ** 0.5\n",
        "                try:\n",
        "                    phase_image_values[m][n] = math.atan(abs(real_value/imaginary_value))\n",
        "                except ZeroDivisionError as error:\n",
        "#                     print(error)\n",
        "                    phase_image_values[m][n] = math.radians(90)\n",
        "                    \n",
        "        img = Image.fromarray(magnitude_image_values)\n",
        "        img.show()"
      ],
      "metadata": {
        "id": "ivwEd62TR8eo"
      },
      "execution_count": null,
      "outputs": []
    },
    {
      "cell_type": "code",
      "source": [
        "frequencyDomain(pic)"
      ],
      "metadata": {
        "id": "Wa-xMneLR8hT"
      },
      "execution_count": null,
      "outputs": []
    },
    {
      "cell_type": "code",
      "source": [
        "    #Question no: 5 \n",
        "    def lowPassFilter(grey_pic, cut_off_distance=5):\n",
        "        image_values = np.array(grey_pic)\n",
        "        x = len(image_values)\n",
        "        y = len(image_values[0])\n",
        "        f_img_values = np.zeros((pic.size[1],pic.size[0]))\n",
        "        for u in range(len(f_img_values)):\n",
        "            for v in range(len(f_img_values[0])):\n",
        "                distance = ((((u - x) / 2) ** 2) + (((v - y) / 2) ** 2)) ** 0.5\n",
        "                if distance <= c_o_distance:\n",
        "                    f_img_values[u][v] = 1\n",
        "                else:\n",
        "                    f_img_values[u][v] = 0\n",
        "                    \n",
        "    \n",
        "    \n",
        "    #Question no: 6 \n",
        "    def highPassFilter(c_o_distance=5):\n",
        "        image_values = np.array(grey_pic)\n",
        "        x = len(image_values)\n",
        "        y = len(image_values[0])\n",
        "        f_img_values = np.zeros((pic.size[1],pic.size[0]))\n",
        "        for u in range(len(f_img_values)):\n",
        "            for v in range(len(f_img_values[0])):\n",
        "                distance = ((((u - x) / 2) ** 2) + (((v - y) / 2) ** 2)) ** 0.5\n",
        "                if distance <= c_o_distance:\n",
        "                    f_img_values[u][v] = 0\n",
        "                else:\n",
        "                    f_img_values[u][v] = 1"
      ],
      "metadata": {
        "id": "xh0YP39mR8jx"
      },
      "execution_count": null,
      "outputs": []
    }
  ]
}